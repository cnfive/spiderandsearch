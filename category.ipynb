{
 "cells": [
  {
   "cell_type": "code",
   "execution_count": 1,
   "metadata": {},
   "outputs": [
    {
     "ename": "ModuleNotFoundError",
     "evalue": "No module named 'requests_html'",
     "output_type": "error",
     "traceback": [
      "\u001b[1;31m---------------------------------------------------------------------------\u001b[0m",
      "\u001b[1;31mModuleNotFoundError\u001b[0m                       Traceback (most recent call last)",
      "\u001b[1;32m<ipython-input-1-4b4338dfb6a3>\u001b[0m in \u001b[0;36m<module>\u001b[1;34m\u001b[0m\n\u001b[1;32m----> 1\u001b[1;33m \u001b[1;32mfrom\u001b[0m \u001b[0mrequests_html\u001b[0m \u001b[1;32mimport\u001b[0m \u001b[0mHTMLSession\u001b[0m\u001b[1;33m\u001b[0m\u001b[1;33m\u001b[0m\u001b[0m\n\u001b[0m\u001b[0;32m      2\u001b[0m \u001b[1;32mimport\u001b[0m \u001b[0mtime\u001b[0m\u001b[1;33m\u001b[0m\u001b[1;33m\u001b[0m\u001b[0m\n\u001b[0;32m      3\u001b[0m \u001b[1;32mimport\u001b[0m \u001b[0mpymysql\u001b[0m\u001b[1;33m\u001b[0m\u001b[1;33m\u001b[0m\u001b[0m\n\u001b[0;32m      4\u001b[0m \u001b[1;33m\u001b[0m\u001b[0m\n\u001b[0;32m      5\u001b[0m \u001b[1;32mimport\u001b[0m \u001b[0mmysql\u001b[0m\u001b[1;33m.\u001b[0m\u001b[0mconnector\u001b[0m\u001b[1;33m\u001b[0m\u001b[1;33m\u001b[0m\u001b[0m\n",
      "\u001b[1;31mModuleNotFoundError\u001b[0m: No module named 'requests_html'"
     ]
    }
   ],
   "source": [
    "from requests_html import HTMLSession\n",
    "import time\n",
    "import pymysql\n",
    "\n",
    "import mysql.connector\n",
    "\n",
    "mydb = mysql.connector.connect(\n",
    "  host=\"localhost\",\n",
    "  user=\"cnfive\",\n",
    "  passwd=\"123\",\n",
    "  database=\"db1\"\n",
    "  #database=\"runoob_db\"\n",
    ")\n",
    " \n",
    "mycursor = mydb.cursor()\n",
    "\n",
    "\n",
    "\n",
    "\n",
    "session = HTMLSession()\n",
    "r = session.get('https://w.x.com/allSort.aspx')\n",
    "#print(r.text)\n",
    "#list_a=r.html.find('div#J_goodsList')\n",
    "\n",
    "path5=\"//a/text()\"\n",
    "path4=\"//a\"\n",
    "valist=[]\n",
    "#for html in r.html.links:\n",
    "  #  if \"list.jd.com\"  in html:\n",
    "  #         print(html)\n",
    "\n",
    "for li in r.html.xpath(path4):\n",
    "    if \"list.jd.com\" in li.html:\n",
    "      print(li.html)\n",
    "      print((list(li.absolute_links))[0])\n",
    "      print(li.text)\n",
    "      tup1 = ((list(li.absolute_links))[0],li.text,time.strftime('%Y-%m-%d %H:%M:%S',time.localtime()))    \n",
    "      valist.append(tup1)\n",
    "      \n",
    "sql = \"INSERT INTO urls(url, category, date) VALUES (%s, %s,  %s )\"\n",
    "time1=time.strftime('%Y-%m-%d %H:%M:%S',time.localtime())\n",
    "\n",
    "mycursor.executemany(sql, tuple(valist))\n",
    "print(mycursor.rowcount, \"记录插入成功。\")"
   ]
  },
  {
   "cell_type": "code",
   "execution_count": null,
   "metadata": {},
   "outputs": [],
   "source": []
  }
 ],
 "metadata": {
  "kernelspec": {
   "display_name": "Python 3",
   "language": "python",
   "name": "python3"
  },
  "language_info": {
   "codemirror_mode": {
    "name": "ipython",
    "version": 3
   },
   "file_extension": ".py",
   "mimetype": "text/x-python",
   "name": "python",
   "nbconvert_exporter": "python",
   "pygments_lexer": "ipython3",
   "version": "3.7.6"
  }
 },
 "nbformat": 4,
 "nbformat_minor": 4
}
